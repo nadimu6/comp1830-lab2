{
 "cells": [
  {
   "cell_type": "code",
   "execution_count": 3,
   "id": "84f37230",
   "metadata": {},
   "outputs": [],
   "source": [
    "import pandas as pd\n",
    "import matplotlib.pyplot as plt\n",
    "import numpy as np"
   ]
  },
  {
   "cell_type": "code",
   "execution_count": 4,
   "id": "441aba8a",
   "metadata": {},
   "outputs": [
    {
     "data": {
      "text/html": [
       "<div>\n",
       "<style scoped>\n",
       "    .dataframe tbody tr th:only-of-type {\n",
       "        vertical-align: middle;\n",
       "    }\n",
       "\n",
       "    .dataframe tbody tr th {\n",
       "        vertical-align: top;\n",
       "    }\n",
       "\n",
       "    .dataframe thead th {\n",
       "        text-align: right;\n",
       "    }\n",
       "</style>\n",
       "<table border=\"1\" class=\"dataframe\">\n",
       "  <thead>\n",
       "    <tr style=\"text-align: right;\">\n",
       "      <th></th>\n",
       "      <th>Lifespan</th>\n",
       "      <th>partType</th>\n",
       "      <th>microstructure</th>\n",
       "      <th>coolingRate</th>\n",
       "      <th>quenchTime</th>\n",
       "      <th>forgeTime</th>\n",
       "      <th>smallDefects</th>\n",
       "      <th>largeDefects</th>\n",
       "      <th>sliverDefects</th>\n",
       "      <th>seedLocation</th>\n",
       "      <th>castType</th>\n",
       "    </tr>\n",
       "  </thead>\n",
       "  <tbody>\n",
       "    <tr>\n",
       "      <th>0</th>\n",
       "      <td>284.161690</td>\n",
       "      <td>Blade</td>\n",
       "      <td>colGrain</td>\n",
       "      <td>25</td>\n",
       "      <td>4.460592</td>\n",
       "      <td>7.937116</td>\n",
       "      <td>22</td>\n",
       "      <td>0</td>\n",
       "      <td>7</td>\n",
       "      <td>Top</td>\n",
       "      <td>Investment</td>\n",
       "    </tr>\n",
       "    <tr>\n",
       "      <th>1</th>\n",
       "      <td>1599.551748</td>\n",
       "      <td>Blade</td>\n",
       "      <td>singleGrain</td>\n",
       "      <td>9</td>\n",
       "      <td>1.425973</td>\n",
       "      <td>2.432948</td>\n",
       "      <td>2</td>\n",
       "      <td>0</td>\n",
       "      <td>0</td>\n",
       "      <td>Bottom</td>\n",
       "      <td>Die</td>\n",
       "    </tr>\n",
       "    <tr>\n",
       "      <th>2</th>\n",
       "      <td>768.311031</td>\n",
       "      <td>Nozzle</td>\n",
       "      <td>colGrain</td>\n",
       "      <td>26</td>\n",
       "      <td>2.508879</td>\n",
       "      <td>3.841211</td>\n",
       "      <td>25</td>\n",
       "      <td>0</td>\n",
       "      <td>0</td>\n",
       "      <td>Bottom</td>\n",
       "      <td>Investment</td>\n",
       "    </tr>\n",
       "    <tr>\n",
       "      <th>3</th>\n",
       "      <td>1697.663828</td>\n",
       "      <td>Blade</td>\n",
       "      <td>colGrain</td>\n",
       "      <td>12</td>\n",
       "      <td>3.248913</td>\n",
       "      <td>2.610700</td>\n",
       "      <td>10</td>\n",
       "      <td>0</td>\n",
       "      <td>0</td>\n",
       "      <td>Bottom</td>\n",
       "      <td>Continuous</td>\n",
       "    </tr>\n",
       "    <tr>\n",
       "      <th>4</th>\n",
       "      <td>1491.478862</td>\n",
       "      <td>Nozzle</td>\n",
       "      <td>colGrain</td>\n",
       "      <td>20</td>\n",
       "      <td>1.901670</td>\n",
       "      <td>4.634926</td>\n",
       "      <td>24</td>\n",
       "      <td>0</td>\n",
       "      <td>0</td>\n",
       "      <td>Top</td>\n",
       "      <td>Die</td>\n",
       "    </tr>\n",
       "    <tr>\n",
       "      <th>...</th>\n",
       "      <td>...</td>\n",
       "      <td>...</td>\n",
       "      <td>...</td>\n",
       "      <td>...</td>\n",
       "      <td>...</td>\n",
       "      <td>...</td>\n",
       "      <td>...</td>\n",
       "      <td>...</td>\n",
       "      <td>...</td>\n",
       "      <td>...</td>\n",
       "      <td>...</td>\n",
       "    </tr>\n",
       "    <tr>\n",
       "      <th>995</th>\n",
       "      <td>462.984817</td>\n",
       "      <td>Blade</td>\n",
       "      <td>equiGrain</td>\n",
       "      <td>24</td>\n",
       "      <td>2.023624</td>\n",
       "      <td>2.741713</td>\n",
       "      <td>20</td>\n",
       "      <td>0</td>\n",
       "      <td>0</td>\n",
       "      <td>Bottom</td>\n",
       "      <td>Continuous</td>\n",
       "    </tr>\n",
       "    <tr>\n",
       "      <th>996</th>\n",
       "      <td>1426.298870</td>\n",
       "      <td>Nozzle</td>\n",
       "      <td>equiGrain</td>\n",
       "      <td>21</td>\n",
       "      <td>1.741670</td>\n",
       "      <td>7.206022</td>\n",
       "      <td>12</td>\n",
       "      <td>0</td>\n",
       "      <td>0</td>\n",
       "      <td>Bottom</td>\n",
       "      <td>Investment</td>\n",
       "    </tr>\n",
       "    <tr>\n",
       "      <th>997</th>\n",
       "      <td>1538.072772</td>\n",
       "      <td>Blade</td>\n",
       "      <td>colGrain</td>\n",
       "      <td>14</td>\n",
       "      <td>1.658847</td>\n",
       "      <td>8.276388</td>\n",
       "      <td>12</td>\n",
       "      <td>0</td>\n",
       "      <td>0</td>\n",
       "      <td>Top</td>\n",
       "      <td>Investment</td>\n",
       "    </tr>\n",
       "    <tr>\n",
       "      <th>998</th>\n",
       "      <td>1893.052813</td>\n",
       "      <td>Nozzle</td>\n",
       "      <td>equiGrain</td>\n",
       "      <td>9</td>\n",
       "      <td>2.124314</td>\n",
       "      <td>5.033330</td>\n",
       "      <td>0</td>\n",
       "      <td>0</td>\n",
       "      <td>0</td>\n",
       "      <td>Bottom</td>\n",
       "      <td>Continuous</td>\n",
       "    </tr>\n",
       "    <tr>\n",
       "      <th>999</th>\n",
       "      <td>932.460716</td>\n",
       "      <td>Nozzle</td>\n",
       "      <td>singleGrain</td>\n",
       "      <td>27</td>\n",
       "      <td>1.190002</td>\n",
       "      <td>3.979771</td>\n",
       "      <td>19</td>\n",
       "      <td>0</td>\n",
       "      <td>0</td>\n",
       "      <td>Bottom</td>\n",
       "      <td>Continuous</td>\n",
       "    </tr>\n",
       "  </tbody>\n",
       "</table>\n",
       "<p>1000 rows × 11 columns</p>\n",
       "</div>"
      ],
      "text/plain": [
       "        Lifespan partType microstructure  coolingRate  quenchTime  forgeTime  \\\n",
       "0     284.161690    Blade       colGrain           25    4.460592   7.937116   \n",
       "1    1599.551748    Blade    singleGrain            9    1.425973   2.432948   \n",
       "2     768.311031   Nozzle       colGrain           26    2.508879   3.841211   \n",
       "3    1697.663828    Blade       colGrain           12    3.248913   2.610700   \n",
       "4    1491.478862   Nozzle       colGrain           20    1.901670   4.634926   \n",
       "..           ...      ...            ...          ...         ...        ...   \n",
       "995   462.984817    Blade      equiGrain           24    2.023624   2.741713   \n",
       "996  1426.298870   Nozzle      equiGrain           21    1.741670   7.206022   \n",
       "997  1538.072772    Blade       colGrain           14    1.658847   8.276388   \n",
       "998  1893.052813   Nozzle      equiGrain            9    2.124314   5.033330   \n",
       "999   932.460716   Nozzle    singleGrain           27    1.190002   3.979771   \n",
       "\n",
       "     smallDefects  largeDefects  sliverDefects seedLocation    castType  \n",
       "0              22             0              7          Top  Investment  \n",
       "1               2             0              0       Bottom         Die  \n",
       "2              25             0              0       Bottom  Investment  \n",
       "3              10             0              0       Bottom  Continuous  \n",
       "4              24             0              0          Top         Die  \n",
       "..            ...           ...            ...          ...         ...  \n",
       "995            20             0              0       Bottom  Continuous  \n",
       "996            12             0              0       Bottom  Investment  \n",
       "997            12             0              0          Top  Investment  \n",
       "998             0             0              0       Bottom  Continuous  \n",
       "999            19             0              0       Bottom  Continuous  \n",
       "\n",
       "[1000 rows x 11 columns]"
      ]
     },
     "execution_count": 4,
     "metadata": {},
     "output_type": "execute_result"
    }
   ],
   "source": [
    "df=pd.read_csv(\"COMP1801_CourseworkDataset1_tabular (3).csv\")\n",
    "df"
   ]
  },
  {
   "cell_type": "code",
   "execution_count": 5,
   "id": "b3846107",
   "metadata": {},
   "outputs": [
    {
     "data": {
      "text/html": [
       "<div>\n",
       "<style scoped>\n",
       "    .dataframe tbody tr th:only-of-type {\n",
       "        vertical-align: middle;\n",
       "    }\n",
       "\n",
       "    .dataframe tbody tr th {\n",
       "        vertical-align: top;\n",
       "    }\n",
       "\n",
       "    .dataframe thead th {\n",
       "        text-align: right;\n",
       "    }\n",
       "</style>\n",
       "<table border=\"1\" class=\"dataframe\">\n",
       "  <thead>\n",
       "    <tr style=\"text-align: right;\">\n",
       "      <th></th>\n",
       "      <th>Lifespan</th>\n",
       "      <th>partType</th>\n",
       "      <th>microstructure</th>\n",
       "      <th>coolingRate</th>\n",
       "      <th>quenchTime</th>\n",
       "      <th>forgeTime</th>\n",
       "      <th>smallDefects</th>\n",
       "      <th>largeDefects</th>\n",
       "      <th>sliverDefects</th>\n",
       "      <th>seedLocation</th>\n",
       "      <th>castType</th>\n",
       "    </tr>\n",
       "  </thead>\n",
       "  <tbody>\n",
       "    <tr>\n",
       "      <th>0</th>\n",
       "      <td>284.161690</td>\n",
       "      <td>0</td>\n",
       "      <td>0</td>\n",
       "      <td>25</td>\n",
       "      <td>4.460592</td>\n",
       "      <td>7.937116</td>\n",
       "      <td>22</td>\n",
       "      <td>0</td>\n",
       "      <td>7</td>\n",
       "      <td>1</td>\n",
       "      <td>2</td>\n",
       "    </tr>\n",
       "    <tr>\n",
       "      <th>1</th>\n",
       "      <td>1599.551748</td>\n",
       "      <td>0</td>\n",
       "      <td>2</td>\n",
       "      <td>9</td>\n",
       "      <td>1.425973</td>\n",
       "      <td>2.432948</td>\n",
       "      <td>2</td>\n",
       "      <td>0</td>\n",
       "      <td>0</td>\n",
       "      <td>0</td>\n",
       "      <td>1</td>\n",
       "    </tr>\n",
       "    <tr>\n",
       "      <th>2</th>\n",
       "      <td>768.311031</td>\n",
       "      <td>2</td>\n",
       "      <td>0</td>\n",
       "      <td>26</td>\n",
       "      <td>2.508879</td>\n",
       "      <td>3.841211</td>\n",
       "      <td>25</td>\n",
       "      <td>0</td>\n",
       "      <td>0</td>\n",
       "      <td>0</td>\n",
       "      <td>2</td>\n",
       "    </tr>\n",
       "    <tr>\n",
       "      <th>3</th>\n",
       "      <td>1697.663828</td>\n",
       "      <td>0</td>\n",
       "      <td>0</td>\n",
       "      <td>12</td>\n",
       "      <td>3.248913</td>\n",
       "      <td>2.610700</td>\n",
       "      <td>10</td>\n",
       "      <td>0</td>\n",
       "      <td>0</td>\n",
       "      <td>0</td>\n",
       "      <td>0</td>\n",
       "    </tr>\n",
       "    <tr>\n",
       "      <th>4</th>\n",
       "      <td>1491.478862</td>\n",
       "      <td>2</td>\n",
       "      <td>0</td>\n",
       "      <td>20</td>\n",
       "      <td>1.901670</td>\n",
       "      <td>4.634926</td>\n",
       "      <td>24</td>\n",
       "      <td>0</td>\n",
       "      <td>0</td>\n",
       "      <td>1</td>\n",
       "      <td>1</td>\n",
       "    </tr>\n",
       "    <tr>\n",
       "      <th>...</th>\n",
       "      <td>...</td>\n",
       "      <td>...</td>\n",
       "      <td>...</td>\n",
       "      <td>...</td>\n",
       "      <td>...</td>\n",
       "      <td>...</td>\n",
       "      <td>...</td>\n",
       "      <td>...</td>\n",
       "      <td>...</td>\n",
       "      <td>...</td>\n",
       "      <td>...</td>\n",
       "    </tr>\n",
       "    <tr>\n",
       "      <th>995</th>\n",
       "      <td>462.984817</td>\n",
       "      <td>0</td>\n",
       "      <td>1</td>\n",
       "      <td>24</td>\n",
       "      <td>2.023624</td>\n",
       "      <td>2.741713</td>\n",
       "      <td>20</td>\n",
       "      <td>0</td>\n",
       "      <td>0</td>\n",
       "      <td>0</td>\n",
       "      <td>0</td>\n",
       "    </tr>\n",
       "    <tr>\n",
       "      <th>996</th>\n",
       "      <td>1426.298870</td>\n",
       "      <td>2</td>\n",
       "      <td>1</td>\n",
       "      <td>21</td>\n",
       "      <td>1.741670</td>\n",
       "      <td>7.206022</td>\n",
       "      <td>12</td>\n",
       "      <td>0</td>\n",
       "      <td>0</td>\n",
       "      <td>0</td>\n",
       "      <td>2</td>\n",
       "    </tr>\n",
       "    <tr>\n",
       "      <th>997</th>\n",
       "      <td>1538.072772</td>\n",
       "      <td>0</td>\n",
       "      <td>0</td>\n",
       "      <td>14</td>\n",
       "      <td>1.658847</td>\n",
       "      <td>8.276388</td>\n",
       "      <td>12</td>\n",
       "      <td>0</td>\n",
       "      <td>0</td>\n",
       "      <td>1</td>\n",
       "      <td>2</td>\n",
       "    </tr>\n",
       "    <tr>\n",
       "      <th>998</th>\n",
       "      <td>1893.052813</td>\n",
       "      <td>2</td>\n",
       "      <td>1</td>\n",
       "      <td>9</td>\n",
       "      <td>2.124314</td>\n",
       "      <td>5.033330</td>\n",
       "      <td>0</td>\n",
       "      <td>0</td>\n",
       "      <td>0</td>\n",
       "      <td>0</td>\n",
       "      <td>0</td>\n",
       "    </tr>\n",
       "    <tr>\n",
       "      <th>999</th>\n",
       "      <td>932.460716</td>\n",
       "      <td>2</td>\n",
       "      <td>2</td>\n",
       "      <td>27</td>\n",
       "      <td>1.190002</td>\n",
       "      <td>3.979771</td>\n",
       "      <td>19</td>\n",
       "      <td>0</td>\n",
       "      <td>0</td>\n",
       "      <td>0</td>\n",
       "      <td>0</td>\n",
       "    </tr>\n",
       "  </tbody>\n",
       "</table>\n",
       "<p>1000 rows × 11 columns</p>\n",
       "</div>"
      ],
      "text/plain": [
       "        Lifespan  partType  microstructure  coolingRate  quenchTime  \\\n",
       "0     284.161690         0               0           25    4.460592   \n",
       "1    1599.551748         0               2            9    1.425973   \n",
       "2     768.311031         2               0           26    2.508879   \n",
       "3    1697.663828         0               0           12    3.248913   \n",
       "4    1491.478862         2               0           20    1.901670   \n",
       "..           ...       ...             ...          ...         ...   \n",
       "995   462.984817         0               1           24    2.023624   \n",
       "996  1426.298870         2               1           21    1.741670   \n",
       "997  1538.072772         0               0           14    1.658847   \n",
       "998  1893.052813         2               1            9    2.124314   \n",
       "999   932.460716         2               2           27    1.190002   \n",
       "\n",
       "     forgeTime  smallDefects  largeDefects  sliverDefects  seedLocation  \\\n",
       "0     7.937116            22             0              7             1   \n",
       "1     2.432948             2             0              0             0   \n",
       "2     3.841211            25             0              0             0   \n",
       "3     2.610700            10             0              0             0   \n",
       "4     4.634926            24             0              0             1   \n",
       "..         ...           ...           ...            ...           ...   \n",
       "995   2.741713            20             0              0             0   \n",
       "996   7.206022            12             0              0             0   \n",
       "997   8.276388            12             0              0             1   \n",
       "998   5.033330             0             0              0             0   \n",
       "999   3.979771            19             0              0             0   \n",
       "\n",
       "     castType  \n",
       "0           2  \n",
       "1           1  \n",
       "2           2  \n",
       "3           0  \n",
       "4           1  \n",
       "..        ...  \n",
       "995         0  \n",
       "996         2  \n",
       "997         2  \n",
       "998         0  \n",
       "999         0  \n",
       "\n",
       "[1000 rows x 11 columns]"
      ]
     },
     "execution_count": 5,
     "metadata": {},
     "output_type": "execute_result"
    }
   ],
   "source": [
    "#Converting categorical values into numerical values\n",
    "\n",
    "df['partType']=df['partType'].astype('category')\n",
    "df['partType']=df['partType'].cat.codes\n",
    "\n",
    "df['microstructure']=df['microstructure'].astype('category')\n",
    "df['microstructure']=df['microstructure'].cat.codes\n",
    "\n",
    "df['seedLocation']=df['seedLocation'].astype('category')\n",
    "df['seedLocation']=df['seedLocation'].cat.codes\n",
    "\n",
    "df['castType']=df['castType'].astype('category')\n",
    "df['castType']=df['castType'].cat.codes\n",
    "\n",
    "df"
   ]
  },
  {
   "cell_type": "code",
   "execution_count": 6,
   "id": "3e42febf",
   "metadata": {},
   "outputs": [
    {
     "data": {
      "text/plain": [
       "Lifespan          0\n",
       "partType          0\n",
       "microstructure    0\n",
       "coolingRate       0\n",
       "quenchTime        0\n",
       "forgeTime         0\n",
       "smallDefects      0\n",
       "largeDefects      0\n",
       "sliverDefects     0\n",
       "seedLocation      0\n",
       "castType          0\n",
       "dtype: int64"
      ]
     },
     "execution_count": 6,
     "metadata": {},
     "output_type": "execute_result"
    }
   ],
   "source": [
    "#Data cleaning (Seeing is there any duplicate or null value)\n",
    "\n",
    "df.isnull().sum()"
   ]
  },
  {
   "cell_type": "code",
   "execution_count": 7,
   "id": "e6e6ebbd",
   "metadata": {},
   "outputs": [
    {
     "name": "stdout",
     "output_type": "stream",
     "text": [
      "<class 'pandas.core.frame.DataFrame'>\n",
      "RangeIndex: 1000 entries, 0 to 999\n",
      "Data columns (total 11 columns):\n",
      " #   Column          Non-Null Count  Dtype  \n",
      "---  ------          --------------  -----  \n",
      " 0   Lifespan        1000 non-null   float64\n",
      " 1   partType        1000 non-null   int8   \n",
      " 2   microstructure  1000 non-null   int8   \n",
      " 3   coolingRate     1000 non-null   int64  \n",
      " 4   quenchTime      1000 non-null   float64\n",
      " 5   forgeTime       1000 non-null   float64\n",
      " 6   smallDefects    1000 non-null   int64  \n",
      " 7   largeDefects    1000 non-null   int64  \n",
      " 8   sliverDefects   1000 non-null   int64  \n",
      " 9   seedLocation    1000 non-null   int8   \n",
      " 10  castType        1000 non-null   int8   \n",
      "dtypes: float64(3), int64(4), int8(4)\n",
      "memory usage: 58.7 KB\n"
     ]
    }
   ],
   "source": [
    "df.info()"
   ]
  },
  {
   "cell_type": "code",
   "execution_count": 8,
   "id": "0b022aa7",
   "metadata": {},
   "outputs": [
    {
     "data": {
      "text/plain": [
       "0"
      ]
     },
     "execution_count": 8,
     "metadata": {},
     "output_type": "execute_result"
    }
   ],
   "source": [
    "df.duplicated().sum()"
   ]
  },
  {
   "cell_type": "code",
   "execution_count": 9,
   "id": "4321d8d1",
   "metadata": {},
   "outputs": [
    {
     "data": {
      "text/html": [
       "<div>\n",
       "<style scoped>\n",
       "    .dataframe tbody tr th:only-of-type {\n",
       "        vertical-align: middle;\n",
       "    }\n",
       "\n",
       "    .dataframe tbody tr th {\n",
       "        vertical-align: top;\n",
       "    }\n",
       "\n",
       "    .dataframe thead th {\n",
       "        text-align: right;\n",
       "    }\n",
       "</style>\n",
       "<table border=\"1\" class=\"dataframe\">\n",
       "  <thead>\n",
       "    <tr style=\"text-align: right;\">\n",
       "      <th></th>\n",
       "      <th>partType</th>\n",
       "      <th>microstructure</th>\n",
       "      <th>coolingRate</th>\n",
       "      <th>quenchTime</th>\n",
       "      <th>forgeTime</th>\n",
       "      <th>smallDefects</th>\n",
       "      <th>largeDefects</th>\n",
       "      <th>sliverDefects</th>\n",
       "      <th>seedLocation</th>\n",
       "      <th>castType</th>\n",
       "    </tr>\n",
       "  </thead>\n",
       "  <tbody>\n",
       "    <tr>\n",
       "      <th>0</th>\n",
       "      <td>0</td>\n",
       "      <td>0</td>\n",
       "      <td>25</td>\n",
       "      <td>4.460592</td>\n",
       "      <td>7.937116</td>\n",
       "      <td>22</td>\n",
       "      <td>0</td>\n",
       "      <td>7</td>\n",
       "      <td>1</td>\n",
       "      <td>2</td>\n",
       "    </tr>\n",
       "    <tr>\n",
       "      <th>1</th>\n",
       "      <td>0</td>\n",
       "      <td>2</td>\n",
       "      <td>9</td>\n",
       "      <td>1.425973</td>\n",
       "      <td>2.432948</td>\n",
       "      <td>2</td>\n",
       "      <td>0</td>\n",
       "      <td>0</td>\n",
       "      <td>0</td>\n",
       "      <td>1</td>\n",
       "    </tr>\n",
       "    <tr>\n",
       "      <th>2</th>\n",
       "      <td>2</td>\n",
       "      <td>0</td>\n",
       "      <td>26</td>\n",
       "      <td>2.508879</td>\n",
       "      <td>3.841211</td>\n",
       "      <td>25</td>\n",
       "      <td>0</td>\n",
       "      <td>0</td>\n",
       "      <td>0</td>\n",
       "      <td>2</td>\n",
       "    </tr>\n",
       "    <tr>\n",
       "      <th>3</th>\n",
       "      <td>0</td>\n",
       "      <td>0</td>\n",
       "      <td>12</td>\n",
       "      <td>3.248913</td>\n",
       "      <td>2.610700</td>\n",
       "      <td>10</td>\n",
       "      <td>0</td>\n",
       "      <td>0</td>\n",
       "      <td>0</td>\n",
       "      <td>0</td>\n",
       "    </tr>\n",
       "    <tr>\n",
       "      <th>4</th>\n",
       "      <td>2</td>\n",
       "      <td>0</td>\n",
       "      <td>20</td>\n",
       "      <td>1.901670</td>\n",
       "      <td>4.634926</td>\n",
       "      <td>24</td>\n",
       "      <td>0</td>\n",
       "      <td>0</td>\n",
       "      <td>1</td>\n",
       "      <td>1</td>\n",
       "    </tr>\n",
       "    <tr>\n",
       "      <th>...</th>\n",
       "      <td>...</td>\n",
       "      <td>...</td>\n",
       "      <td>...</td>\n",
       "      <td>...</td>\n",
       "      <td>...</td>\n",
       "      <td>...</td>\n",
       "      <td>...</td>\n",
       "      <td>...</td>\n",
       "      <td>...</td>\n",
       "      <td>...</td>\n",
       "    </tr>\n",
       "    <tr>\n",
       "      <th>995</th>\n",
       "      <td>0</td>\n",
       "      <td>1</td>\n",
       "      <td>24</td>\n",
       "      <td>2.023624</td>\n",
       "      <td>2.741713</td>\n",
       "      <td>20</td>\n",
       "      <td>0</td>\n",
       "      <td>0</td>\n",
       "      <td>0</td>\n",
       "      <td>0</td>\n",
       "    </tr>\n",
       "    <tr>\n",
       "      <th>996</th>\n",
       "      <td>2</td>\n",
       "      <td>1</td>\n",
       "      <td>21</td>\n",
       "      <td>1.741670</td>\n",
       "      <td>7.206022</td>\n",
       "      <td>12</td>\n",
       "      <td>0</td>\n",
       "      <td>0</td>\n",
       "      <td>0</td>\n",
       "      <td>2</td>\n",
       "    </tr>\n",
       "    <tr>\n",
       "      <th>997</th>\n",
       "      <td>0</td>\n",
       "      <td>0</td>\n",
       "      <td>14</td>\n",
       "      <td>1.658847</td>\n",
       "      <td>8.276388</td>\n",
       "      <td>12</td>\n",
       "      <td>0</td>\n",
       "      <td>0</td>\n",
       "      <td>1</td>\n",
       "      <td>2</td>\n",
       "    </tr>\n",
       "    <tr>\n",
       "      <th>998</th>\n",
       "      <td>2</td>\n",
       "      <td>1</td>\n",
       "      <td>9</td>\n",
       "      <td>2.124314</td>\n",
       "      <td>5.033330</td>\n",
       "      <td>0</td>\n",
       "      <td>0</td>\n",
       "      <td>0</td>\n",
       "      <td>0</td>\n",
       "      <td>0</td>\n",
       "    </tr>\n",
       "    <tr>\n",
       "      <th>999</th>\n",
       "      <td>2</td>\n",
       "      <td>2</td>\n",
       "      <td>27</td>\n",
       "      <td>1.190002</td>\n",
       "      <td>3.979771</td>\n",
       "      <td>19</td>\n",
       "      <td>0</td>\n",
       "      <td>0</td>\n",
       "      <td>0</td>\n",
       "      <td>0</td>\n",
       "    </tr>\n",
       "  </tbody>\n",
       "</table>\n",
       "<p>1000 rows × 10 columns</p>\n",
       "</div>"
      ],
      "text/plain": [
       "     partType  microstructure  coolingRate  quenchTime  forgeTime  \\\n",
       "0           0               0           25    4.460592   7.937116   \n",
       "1           0               2            9    1.425973   2.432948   \n",
       "2           2               0           26    2.508879   3.841211   \n",
       "3           0               0           12    3.248913   2.610700   \n",
       "4           2               0           20    1.901670   4.634926   \n",
       "..        ...             ...          ...         ...        ...   \n",
       "995         0               1           24    2.023624   2.741713   \n",
       "996         2               1           21    1.741670   7.206022   \n",
       "997         0               0           14    1.658847   8.276388   \n",
       "998         2               1            9    2.124314   5.033330   \n",
       "999         2               2           27    1.190002   3.979771   \n",
       "\n",
       "     smallDefects  largeDefects  sliverDefects  seedLocation  castType  \n",
       "0              22             0              7             1         2  \n",
       "1               2             0              0             0         1  \n",
       "2              25             0              0             0         2  \n",
       "3              10             0              0             0         0  \n",
       "4              24             0              0             1         1  \n",
       "..            ...           ...            ...           ...       ...  \n",
       "995            20             0              0             0         0  \n",
       "996            12             0              0             0         2  \n",
       "997            12             0              0             1         2  \n",
       "998             0             0              0             0         0  \n",
       "999            19             0              0             0         0  \n",
       "\n",
       "[1000 rows x 10 columns]"
      ]
     },
     "execution_count": 9,
     "metadata": {},
     "output_type": "execute_result"
    }
   ],
   "source": [
    "#Getting the train portion\n",
    "X=df.drop(columns=\"Lifespan\")\n",
    "X"
   ]
  },
  {
   "cell_type": "code",
   "execution_count": 10,
   "id": "964d1aae",
   "metadata": {},
   "outputs": [
    {
     "data": {
      "text/plain": [
       "0       284.161690\n",
       "1      1599.551748\n",
       "2       768.311031\n",
       "3      1697.663828\n",
       "4      1491.478862\n",
       "          ...     \n",
       "995     462.984817\n",
       "996    1426.298870\n",
       "997    1538.072772\n",
       "998    1893.052813\n",
       "999     932.460716\n",
       "Name: Lifespan, Length: 1000, dtype: float64"
      ]
     },
     "execution_count": 10,
     "metadata": {},
     "output_type": "execute_result"
    }
   ],
   "source": [
    "#Prediction variable\n",
    "y=df['Lifespan']\n",
    "y"
   ]
  },
  {
   "cell_type": "code",
   "execution_count": 11,
   "id": "85095c4e",
   "metadata": {},
   "outputs": [],
   "source": [
    "#Splitting the datasets using train_test method\n",
    "from sklearn.model_selection import train_test_split\n",
    "X_train,X_test,y_train,y_test=train_test_split(X,y,test_size=0.2,random_state=1)"
   ]
  },
  {
   "cell_type": "code",
   "execution_count": 12,
   "id": "b05cf663",
   "metadata": {},
   "outputs": [],
   "source": [
    "#Importing linear regression model\n",
    "from sklearn.linear_model import LinearRegression\n",
    "lr=LinearRegression()"
   ]
  },
  {
   "cell_type": "code",
   "execution_count": 13,
   "id": "f8eb94f8",
   "metadata": {},
   "outputs": [
    {
     "data": {
      "text/html": [
       "<style>#sk-container-id-1 {color: black;}#sk-container-id-1 pre{padding: 0;}#sk-container-id-1 div.sk-toggleable {background-color: white;}#sk-container-id-1 label.sk-toggleable__label {cursor: pointer;display: block;width: 100%;margin-bottom: 0;padding: 0.3em;box-sizing: border-box;text-align: center;}#sk-container-id-1 label.sk-toggleable__label-arrow:before {content: \"▸\";float: left;margin-right: 0.25em;color: #696969;}#sk-container-id-1 label.sk-toggleable__label-arrow:hover:before {color: black;}#sk-container-id-1 div.sk-estimator:hover label.sk-toggleable__label-arrow:before {color: black;}#sk-container-id-1 div.sk-toggleable__content {max-height: 0;max-width: 0;overflow: hidden;text-align: left;background-color: #f0f8ff;}#sk-container-id-1 div.sk-toggleable__content pre {margin: 0.2em;color: black;border-radius: 0.25em;background-color: #f0f8ff;}#sk-container-id-1 input.sk-toggleable__control:checked~div.sk-toggleable__content {max-height: 200px;max-width: 100%;overflow: auto;}#sk-container-id-1 input.sk-toggleable__control:checked~label.sk-toggleable__label-arrow:before {content: \"▾\";}#sk-container-id-1 div.sk-estimator input.sk-toggleable__control:checked~label.sk-toggleable__label {background-color: #d4ebff;}#sk-container-id-1 div.sk-label input.sk-toggleable__control:checked~label.sk-toggleable__label {background-color: #d4ebff;}#sk-container-id-1 input.sk-hidden--visually {border: 0;clip: rect(1px 1px 1px 1px);clip: rect(1px, 1px, 1px, 1px);height: 1px;margin: -1px;overflow: hidden;padding: 0;position: absolute;width: 1px;}#sk-container-id-1 div.sk-estimator {font-family: monospace;background-color: #f0f8ff;border: 1px dotted black;border-radius: 0.25em;box-sizing: border-box;margin-bottom: 0.5em;}#sk-container-id-1 div.sk-estimator:hover {background-color: #d4ebff;}#sk-container-id-1 div.sk-parallel-item::after {content: \"\";width: 100%;border-bottom: 1px solid gray;flex-grow: 1;}#sk-container-id-1 div.sk-label:hover label.sk-toggleable__label {background-color: #d4ebff;}#sk-container-id-1 div.sk-serial::before {content: \"\";position: absolute;border-left: 1px solid gray;box-sizing: border-box;top: 0;bottom: 0;left: 50%;z-index: 0;}#sk-container-id-1 div.sk-serial {display: flex;flex-direction: column;align-items: center;background-color: white;padding-right: 0.2em;padding-left: 0.2em;position: relative;}#sk-container-id-1 div.sk-item {position: relative;z-index: 1;}#sk-container-id-1 div.sk-parallel {display: flex;align-items: stretch;justify-content: center;background-color: white;position: relative;}#sk-container-id-1 div.sk-item::before, #sk-container-id-1 div.sk-parallel-item::before {content: \"\";position: absolute;border-left: 1px solid gray;box-sizing: border-box;top: 0;bottom: 0;left: 50%;z-index: -1;}#sk-container-id-1 div.sk-parallel-item {display: flex;flex-direction: column;z-index: 1;position: relative;background-color: white;}#sk-container-id-1 div.sk-parallel-item:first-child::after {align-self: flex-end;width: 50%;}#sk-container-id-1 div.sk-parallel-item:last-child::after {align-self: flex-start;width: 50%;}#sk-container-id-1 div.sk-parallel-item:only-child::after {width: 0;}#sk-container-id-1 div.sk-dashed-wrapped {border: 1px dashed gray;margin: 0 0.4em 0.5em 0.4em;box-sizing: border-box;padding-bottom: 0.4em;background-color: white;}#sk-container-id-1 div.sk-label label {font-family: monospace;font-weight: bold;display: inline-block;line-height: 1.2em;}#sk-container-id-1 div.sk-label-container {text-align: center;}#sk-container-id-1 div.sk-container {/* jupyter's `normalize.less` sets `[hidden] { display: none; }` but bootstrap.min.css set `[hidden] { display: none !important; }` so we also need the `!important` here to be able to override the default hidden behavior on the sphinx rendered scikit-learn.org. See: https://github.com/scikit-learn/scikit-learn/issues/21755 */display: inline-block !important;position: relative;}#sk-container-id-1 div.sk-text-repr-fallback {display: none;}</style><div id=\"sk-container-id-1\" class=\"sk-top-container\"><div class=\"sk-text-repr-fallback\"><pre>LinearRegression()</pre><b>In a Jupyter environment, please rerun this cell to show the HTML representation or trust the notebook. <br />On GitHub, the HTML representation is unable to render, please try loading this page with nbviewer.org.</b></div><div class=\"sk-container\" hidden><div class=\"sk-item\"><div class=\"sk-estimator sk-toggleable\"><input class=\"sk-toggleable__control sk-hidden--visually\" id=\"sk-estimator-id-1\" type=\"checkbox\" checked><label for=\"sk-estimator-id-1\" class=\"sk-toggleable__label sk-toggleable__label-arrow\">LinearRegression</label><div class=\"sk-toggleable__content\"><pre>LinearRegression()</pre></div></div></div></div></div>"
      ],
      "text/plain": [
       "LinearRegression()"
      ]
     },
     "execution_count": 13,
     "metadata": {},
     "output_type": "execute_result"
    }
   ],
   "source": [
    "#Fitting the model\n",
    "lr.fit(X_train, y_train)"
   ]
  },
  {
   "cell_type": "code",
   "execution_count": 14,
   "id": "3e0068c1",
   "metadata": {},
   "outputs": [
    {
     "data": {
      "text/plain": [
       "2209.7367725062513"
      ]
     },
     "execution_count": 14,
     "metadata": {},
     "output_type": "execute_result"
    }
   ],
   "source": [
    "#Getting the Intercept\n",
    "c=lr.intercept_\n",
    "c"
   ]
  },
  {
   "cell_type": "code",
   "execution_count": 15,
   "id": "1f1516a5",
   "metadata": {},
   "outputs": [
    {
     "data": {
      "text/plain": [
       "array([ 43.86933201,  34.44645003, -66.77463229,  37.68911962,\n",
       "         0.35774398,  13.07116153,  -2.30407568, -21.92920721,\n",
       "       -32.0742778 , -32.93487177])"
      ]
     },
     "execution_count": 15,
     "metadata": {},
     "output_type": "execute_result"
    }
   ],
   "source": [
    "#Getting the coefficient\n",
    "m=lr.coef_\n",
    "m"
   ]
  },
  {
   "cell_type": "code",
   "execution_count": 16,
   "id": "e8bced52",
   "metadata": {},
   "outputs": [],
   "source": [
    "#Predicting the Y value\n",
    "y_predict_train=lr.predict(X_train)"
   ]
  },
  {
   "cell_type": "code",
   "execution_count": 17,
   "id": "aaf32eba",
   "metadata": {},
   "outputs": [
    {
     "data": {
      "text/plain": [
       "array([1991.43705493, 1573.43525782,  888.47892007,  703.83325819,\n",
       "       1049.70776733,  977.60386285, 1814.67610244, 1679.74782432,\n",
       "       1735.76653929, 1850.18319605,  953.58609367, 1537.58745699,\n",
       "        967.52032484,  950.821791  , 1765.2175844 , 1283.32372563,\n",
       "       1610.72072298,  759.59763336, 1587.23029205,  896.04620385,\n",
       "       1564.71129337, 1678.09930338, 1494.64905693,  711.70869473,\n",
       "       1836.42359759,  919.75560547, 1291.72529917, 1665.6967782 ,\n",
       "       1793.64811452, 1278.1848964 , 1580.44933625, 1907.25191677,\n",
       "       1248.76692275, 1515.51491846, 1318.32635025,  694.79765459,\n",
       "        683.88809402, 2169.64696775, 1695.16042983, 1637.56070176,\n",
       "       1403.66620023, 1752.0665256 , 1370.54513613,  670.72269009,\n",
       "       1527.64669325,  652.66381804, 2037.99559126,  978.4247464 ,\n",
       "       1812.61734867,  957.90668873, 1695.34816081, 1406.93437089,\n",
       "        726.98362086,  911.43887993, 1088.85871841,  839.57283277,\n",
       "       1685.76485606, 2060.06795593, 1493.50635065, 1384.60380733,\n",
       "       2173.56297355,  910.53806368, 1690.66184053, 1743.85738918,\n",
       "       1821.14148886, 1957.19486694, 1110.54305722, 1412.12421469,\n",
       "       1997.001707  , 1205.13315157, 1730.50822866, 1465.62870723,\n",
       "       1321.42352852,  676.71105688,  786.74147143, 1252.78907836,\n",
       "       1695.00121512,  831.92354818, 1154.46268605, 1472.21382973,\n",
       "       1000.52979547, 1624.46018093, 1684.91277983, 1660.86927415,\n",
       "       1776.72910711, 1214.85489502, 1597.49270622,  742.9636344 ,\n",
       "       1086.5446795 , 1552.29299906, 1766.86271375, 1725.67354369,\n",
       "       1121.47349498, 1579.2491438 , 1885.53753677, 1885.54389953,\n",
       "        854.89755604, 1140.96090598, 1558.49058638, 1821.154232  ,\n",
       "       1895.23304466, 1991.26853531, 1604.2196902 , 1643.0002208 ,\n",
       "       1950.71060489, 1873.19325877, 1551.3382793 , 2031.50424648,\n",
       "        819.03011906,  930.29806724,  820.12233939,  599.70638169,\n",
       "       1161.29144646, 1193.03257602, 1039.58765734,  799.28312405,\n",
       "       1512.65325798, 1159.45342053, 1724.97263445, 1968.7909359 ,\n",
       "       1481.79344646,  600.11457076, 1415.61688884,  925.21771241,\n",
       "        747.44330325, 1776.81926993,  648.53546283,  709.09942063,\n",
       "       1879.21631746,  735.86400451, 1370.42218377, 1795.35567389,\n",
       "       1841.60932525, 1845.53957154,  605.67540752, 1964.86848605,\n",
       "       1933.6065543 , 2114.14314352,  544.57067718, 1806.45691874,\n",
       "       1621.95194398, 1353.96992188, 1583.46371961, 1539.50261311,\n",
       "       1373.84492904, 1560.20893776, 1731.9087799 ,  575.59904114,\n",
       "       2150.50432769, 1232.84015461, 1619.09504733,  620.89008146,\n",
       "       1401.93597206, 1808.05281635, 2036.18934739, 1051.4214929 ,\n",
       "       1167.52643301, 1726.36573169, 1027.1389082 , 1527.1306558 ,\n",
       "       1377.24579929, 1790.67200654,  979.20716634, 1648.70924794,\n",
       "       1294.25410142,  771.84331906, 1251.50272164,  518.76359664,\n",
       "       1475.77633876, 1812.80730413, 1313.75307539, 1643.40808072,\n",
       "        843.77499809,  819.58689522, 1775.64945003, 1731.30005377,\n",
       "       1828.08405049, 1017.73820766,  590.15935592, 1572.4092238 ,\n",
       "        959.81776208, 1320.6125026 , 1294.26247884, 1472.7608599 ,\n",
       "       1671.09550302, 1548.03938932, 1930.85101166, 1805.52390129,\n",
       "       1928.10618336, 1866.12579673,  924.74582537, 1286.53122997,\n",
       "       1037.51865665,  578.64403503, 1179.30367402, 1661.18945044,\n",
       "       1803.07171646, 1170.17421117, 1270.70431751, 1408.83758559,\n",
       "       1618.69784297, 1706.96802848, 1786.99907569,  651.73396403,\n",
       "       1647.94456341, 1433.91560191, 1815.83259515, 1607.90313527,\n",
       "       1123.71649202, 1941.98667684, 1584.06863899, 1493.63587366,\n",
       "       1291.4491425 ,  720.22067981, 1295.18713305,  827.02301733,\n",
       "       1307.92907153, 1260.39567417, 1130.59062947, 2039.55137754,\n",
       "       1450.66509685, 1963.41308719, 1739.49275401, 1399.49051904,\n",
       "       1578.61806637, 1522.06950896, 1178.11235611, 1672.5565942 ,\n",
       "       1184.66683398, 1657.54194024, 1567.87432453,  772.91843354,\n",
       "       1079.56860169, 1521.1112892 , 1730.11492418,  625.83011365,\n",
       "       1598.13798083,  567.07936803, 2083.28724281, 1592.65735794,\n",
       "       1005.92007787, 1117.01248039,  819.14516151,  686.99365496,\n",
       "       1852.63715301, 2148.11767645, 1341.3415472 , 1676.79597633,\n",
       "       1478.93962095,  710.56074605, 1394.94081859, 1188.82563293,\n",
       "       1430.01962283,  751.61406261, 2065.13662129,  746.77793683,\n",
       "       1176.49755431, 1529.22712809, 1272.15228192, 1830.71489392,\n",
       "       1175.89550058,  950.19086623, 1606.25929889, 1516.13091219,\n",
       "       1875.76908715,  691.5047191 ,  561.85551149, 1861.88287067,\n",
       "        950.04960336, 2009.97205766, 1598.62785494, 1127.39272598,\n",
       "       1751.58723734, 1482.85185407, 1831.66448611, 1050.95079879,\n",
       "        791.88489367, 1572.19616422, 2020.72273902, 2047.21375708,\n",
       "       1968.52256607, 1830.72876705, 1624.8780653 , 1116.51503517,\n",
       "       1261.1315936 , 1096.37742359, 1203.85710551, 1818.4014174 ,\n",
       "       1180.022697  ,  915.05996246, 1625.91218584, 1856.70404089,\n",
       "       1335.10864365, 1591.19644918,  861.0047095 , 1633.49158589,\n",
       "       1796.1164082 ,  784.13844889, 1551.20846618, 1942.9549142 ,\n",
       "       1445.48393289, 1048.99953885, 2010.13637039, 1254.50191606,\n",
       "       1440.96470818, 1359.47956338, 2057.29162121, 1667.60707916,\n",
       "       2096.83871697, 1991.97912357, 1415.2008292 , 1578.39610632,\n",
       "        781.11041999, 1747.04028964, 1522.16641587, 1759.45294995,\n",
       "        703.54603763, 1479.07386899,  731.28012199, 1084.31353002,\n",
       "       1590.45459419, 1302.81062339, 1190.09215158, 1075.34818205,\n",
       "       1289.62869703, 1175.20422504, 1284.01191923, 1579.46937156,\n",
       "       1807.31939697,  603.30573394,  986.79438187, 1026.42545994,\n",
       "        994.33318002, 1078.18788251, 1421.42924176,  653.58282913,\n",
       "       1625.0502208 , 1677.23674567,  630.85035219,  444.90973612,\n",
       "       1469.62318042, 1626.89987938,  844.08510621, 2039.76909363,\n",
       "        838.87808058, 1580.97055302, 2026.64221899, 1709.33508336,\n",
       "       1510.01125559,  619.19650268, 1543.44543545, 1609.3192253 ,\n",
       "       1996.88560763, 1592.32026102,  899.63151393,  710.68029709,\n",
       "       1913.79751657, 1901.07835289, 1862.59561001, 1764.94686711,\n",
       "       1154.98877735, 1108.98083904, 1196.9564181 ,  701.67636368,\n",
       "       1266.33649183, 1794.98536157,  991.35615153,  679.3620179 ,\n",
       "       1872.91633665, 1828.14539649, 2125.68370989, 1356.55647412,\n",
       "       1927.81806959,  970.60860597, 1797.70190692, 1360.48895576,\n",
       "       1767.48484899, 1148.79944667, 1564.5773581 , 1722.38787877,\n",
       "        830.36944993, 1547.68509967, 1246.82926644, 1737.81798752,\n",
       "       1009.4628732 , 1115.27890042,  923.32131789, 1063.73586655,\n",
       "       1144.07512259, 1478.97577045, 1053.24890676, 1537.99796197,\n",
       "       1033.70321153, 1675.35696091, 1876.87731672, 1756.93803208,\n",
       "       1803.15008168, 1245.75855442,  778.20620189, 1015.40337552,\n",
       "       1559.87145091,  729.87529171,  815.0647346 ,  758.70097363,\n",
       "        876.56609232, 1384.87175388, 1525.29713987, 1157.33964998,\n",
       "        882.68434626,  490.96271388,  769.27969922,  759.79848299,\n",
       "        595.96517231, 1647.83199644, 1070.8871079 , 1044.76339958,\n",
       "       1696.24573368, 1573.72578649, 1698.25532694, 1657.22774859,\n",
       "       1538.27881383, 1334.44097733, 1764.24048255, 1879.19110253,\n",
       "       1624.95962295,  806.93473395,  998.72648665, 1769.5485344 ,\n",
       "        398.14976695, 1885.20422497,  937.18007204, 1324.75703797,\n",
       "       1114.22391687,  612.68787563, 1148.69283543, 1558.38965971,\n",
       "       1530.41555902, 1984.35661566, 1292.98943157, 1771.2646928 ,\n",
       "       1518.29747449, 1982.14728024, 1725.47945397,  584.21789286,\n",
       "       1640.86584514, 2014.71182208, 1989.43112595, 1510.01658964,\n",
       "       1726.8069428 , 1867.92715512, 1936.09592647, 1817.89551665,\n",
       "       1834.53514486, 1261.6113093 , 1617.51577499,  748.52870234,\n",
       "       1198.3248208 , 2067.16351812,  668.08980788, 1340.74626218,\n",
       "       1453.96919838,  780.66812387,  802.47765181, 1981.95117734,\n",
       "       1722.95970761,  858.07919063, 1027.05505456, 1456.79698038,\n",
       "        600.22812358, 1055.66011697, 1190.57267753, 1678.79535494,\n",
       "       1429.22879025, 1429.19790329, 1477.01442031, 1147.80452213,\n",
       "       1720.46713141,  776.59677572, 1451.22494547, 1465.52727755,\n",
       "        930.72658845,  544.46213567, 1652.66826272,  739.91141399,\n",
       "        896.99799945, 1222.64948942, 1458.39509121,  917.23615363,\n",
       "       1581.43890681, 1081.5519019 , 1751.13287425, 1718.04497533,\n",
       "       1478.6420878 , 1160.4596124 , 2276.14969489,  726.21540655,\n",
       "        871.80555948, 1468.04646587, 1158.70484093,  830.16521018,\n",
       "       1821.94347102, 1687.09568887, 1796.88779439, 1437.81367978,\n",
       "       1477.01042319, 1181.0912626 , 1545.37133522, 1131.68697563,\n",
       "       1357.94408638,  811.97397013, 1340.69345121, 1845.61512869,\n",
       "       1662.02875614, 1222.05966038, 1062.62400328, 1631.14349016,\n",
       "        447.26836792, 1022.69418049, 1772.5338315 ,  885.56391445,\n",
       "       1371.34856709, 1507.28412542, 1808.03002057, 1076.57777089,\n",
       "        921.79512001, 1703.20032451, 1594.00509027, 1117.06620098,\n",
       "       1167.08040805, 1171.20529334,  768.43012796, 1067.36174175,\n",
       "       1821.15734132,  919.04294618, 1451.0040974 , 1812.81435413,\n",
       "       1944.6572442 , 1292.5407649 , 1432.217888  , 1219.04063108,\n",
       "       1092.00516399, 1399.07000947, 1044.37395398, 1618.25694801,\n",
       "       1404.65453127, 1098.79377257, 1066.54305511, 1421.60796299,\n",
       "       1866.24694411, 1900.70720292,  792.59946628, 1722.80906687,\n",
       "       1992.5281587 , 1355.17257204, 1129.76800067, 1138.4090227 ,\n",
       "       1642.80368684,  905.84742406, 1482.4729201 , 1441.02896593,\n",
       "        662.74235056, 1024.53609156,  826.26045385, 1615.64167982,\n",
       "       1837.25905289, 1942.74116745, 1911.59729255,  910.66846683,\n",
       "       1430.80080964,  642.32828786, 1291.28730048, 1680.97997788,\n",
       "       1238.96430056, 1674.76540175, 1493.66408244, 1230.64892521,\n",
       "       1471.29278076, 1036.81559793, 1030.12395372, 1456.04665754,\n",
       "       1261.07101313, 1541.06453646, 1775.2795488 , 1418.86415951,\n",
       "       1563.25562075,  907.81374936, 1066.16583671,  983.12730114,\n",
       "       1754.71000952,  814.00392887, 1126.72609185, 2149.86228042,\n",
       "        944.5011948 , 1903.18077299, 2077.67718928, 1523.71693365,\n",
       "       1565.68882185, 1714.99011517,  996.97739821, 1909.98785456,\n",
       "        814.89483318, 1667.65326337,  683.96688766, 1675.64609271,\n",
       "        890.40460294, 1808.94233118, 1934.08971321, 1406.55256144,\n",
       "       2079.85955249, 1116.01257303, 1004.33129449,  799.3013915 ,\n",
       "       1395.40093341, 1121.75273443, 1138.21445828,  614.93539944,\n",
       "       1709.56068632, 1278.36931038, 1552.05624468, 2020.3908993 ,\n",
       "       1218.45879872, 1127.6723216 , 1534.58966399, 1195.53018478,\n",
       "       1076.40795376,  901.93288635,  868.80027754, 1859.05852284,\n",
       "       2028.97229501,  737.87419253, 1627.47288832,  635.92295863,\n",
       "       1000.23596538,  806.23693439, 1943.00572049, 1397.1083405 ,\n",
       "       2039.63222585, 1469.68140296, 1608.68774666,  598.74049628,\n",
       "       1763.18689279, 1121.36991368, 1756.0561517 , 1358.234112  ,\n",
       "       1018.90374774, 1684.09105029, 1561.11433657, 1303.86320594,\n",
       "       1345.94739861,  971.2255234 , 1638.23188424, 1035.08338   ,\n",
       "       1513.49039783, 1502.38015362, 1418.69119478, 1354.58209245,\n",
       "       1862.62883315,  988.9143365 ,  786.54128684, 1605.92140429,\n",
       "       1976.04399083,  894.50275302, 1847.42762652, 1775.40256428,\n",
       "       1355.17429545, 1862.81365872,  797.80995799, 1588.83366473,\n",
       "       1853.24762064,  836.89684413,  772.09258359,  782.26304523,\n",
       "        701.80840285, 1954.79938015,  963.75347773,  939.20545958,\n",
       "        999.13707929, 1550.54453756, 1863.44298378, 1567.50268585,\n",
       "       1281.98827116, 2151.80689698, 1956.0620051 , 1756.92545158,\n",
       "       1392.62181216,  931.40701291, 1530.22517674, 1335.56900436,\n",
       "       1261.02263518,  860.57249782,  818.63815707, 1951.87998221,\n",
       "       2011.54798506, 1608.67239352, 1375.43773041, 2067.93935188,\n",
       "       1137.37819334, 1762.37837895, 1588.88152451, 1921.60796721,\n",
       "        658.33738644,  691.00318578, 1454.29528108, 1406.45963331,\n",
       "        832.52833913, 2076.5066548 , 1642.78611913, 2056.96986989,\n",
       "       2065.84918095,  736.41159814, 1552.524284  , 1276.22332165,\n",
       "       1878.03361968,  817.94038975, 1321.10958707, 1040.87124399,\n",
       "        934.61425882, 1995.74764506, 1296.90750258, 1701.42887379,\n",
       "       1863.70225366, 1399.08483067, 1823.73560584, 1400.64033353,\n",
       "       1242.68834495, 1304.25754428, 1752.9397175 , 1318.53777593,\n",
       "       1229.17275579, 1889.80099535, 1382.15268001,  908.84256622,\n",
       "       1119.10131857,  842.45102287, 1879.10342805, 1703.21380932,\n",
       "       1177.20543139, 1140.73156701, 1999.94294924, 1750.0944306 ,\n",
       "       1743.07608156, 1631.52300906, 1781.84276007, 1667.2117272 ,\n",
       "       1867.10388797, 1182.16544569, 1434.9169549 , 2083.94934607,\n",
       "        935.33101554, 1317.74407254,  935.09905668, 1637.52709285,\n",
       "       1217.69865865,  692.81652194,  798.80222021, 1642.00788118,\n",
       "       2025.26656224,  761.65809423, 1825.56738564, 1674.73397991,\n",
       "       1691.93603321,  655.17007444,  678.09142436, 1563.13237063,\n",
       "        740.56666953, 1870.30973442, 1617.39182058,  572.44928237,\n",
       "       1071.65351568, 1354.46986244, 1666.6938671 ,  961.20947958,\n",
       "        927.3118079 , 2029.90977   , 1997.45356854, 1957.31948785,\n",
       "       1599.43484116,  673.32622872, 1680.02315349, 1293.14425193,\n",
       "       1831.50964209, 1159.81828475, 1601.50351422,  551.80665413,\n",
       "        719.83454022, 2137.26559931,  595.96206736,  772.08076503,\n",
       "       1277.0811644 , 1092.5716602 , 1337.41062978, 1699.76660824,\n",
       "        929.77658971, 1306.70424449,  705.50162848, 1477.14636975,\n",
       "       1054.62757446, 1031.21315522, 1792.53853901, 1547.04430023])"
      ]
     },
     "execution_count": 17,
     "metadata": {},
     "output_type": "execute_result"
    }
   ],
   "source": [
    "y_predict_train"
   ]
  },
  {
   "cell_type": "code",
   "execution_count": 18,
   "id": "47febfd8",
   "metadata": {},
   "outputs": [
    {
     "data": {
      "image/png": "[encoded data removed]",
      "text/plain": [
       "<Figure size 640x480 with 1 Axes>"
      ]
     },
     "metadata": {},
     "output_type": "display_data"
    }
   ],
   "source": [
    "#To see how good our prediction\n",
    "import matplotlib.pyplot as plt\n",
    "plt.scatter(y_train,y_predict_train)\n",
    "plt.xlabel(\"Actual lifespan\",color='black')\n",
    "plt.ylabel(\"Predicted lifespan\")\n",
    "\n",
    "plt.show()"
   ]
  },
  {
   "cell_type": "code",
   "execution_count": 19,
   "id": "e8a3fffe",
   "metadata": {},
   "outputs": [
    {
     "data": {
      "text/plain": [
       "0.6590618236989041"
      ]
     },
     "execution_count": 19,
     "metadata": {},
     "output_type": "execute_result"
    }
   ],
   "source": [
    "#evaluating error\n",
    "from sklearn.metrics import r2_score\n",
    "r2_score(y_train,y_predict_train)"
   ]
  },
  {
   "cell_type": "code",
   "execution_count": 20,
   "id": "d659640b",
   "metadata": {},
   "outputs": [],
   "source": [
    "from sklearn import metrics"
   ]
  },
  {
   "cell_type": "code",
   "execution_count": 21,
   "id": "614f6597",
   "metadata": {},
   "outputs": [
    {
     "data": {
      "text/plain": [
       "304.5266987180204"
      ]
     },
     "execution_count": 21,
     "metadata": {},
     "output_type": "execute_result"
    }
   ],
   "source": [
    "y_predict_train=lr.fit(X_train, y_train).predict(X_train)\n",
    "np.sqrt(metrics.mean_squared_error(y_train,y_predict_train))"
   ]
  },
  {
   "cell_type": "code",
   "execution_count": 22,
   "id": "9e62df6b",
   "metadata": {},
   "outputs": [
    {
     "data": {
      "text/plain": [
       "0.6590618236989041"
      ]
     },
     "execution_count": 22,
     "metadata": {},
     "output_type": "execute_result"
    }
   ],
   "source": [
    "lr.score(X_train, y_train)"
   ]
  },
  {
   "cell_type": "code",
   "execution_count": 23,
   "id": "db00b111",
   "metadata": {},
   "outputs": [
    {
     "data": {
      "text/plain": [
       "0.6794554143061703"
      ]
     },
     "execution_count": 23,
     "metadata": {},
     "output_type": "execute_result"
    }
   ],
   "source": [
    "lr.score(X_test,y_test)"
   ]
  },
  {
   "cell_type": "code",
   "execution_count": 28,
   "id": "92bc54bc",
   "metadata": {},
   "outputs": [],
   "source": [
    "# Ridge Regression \n",
    "from sklearn.linear_model import Ridge"
   ]
  },
  {
   "cell_type": "code",
   "execution_count": 32,
   "id": "c64ea405",
   "metadata": {},
   "outputs": [
    {
     "data": {
      "text/html": [
       "<style>#sk-container-id-4 {color: black;}#sk-container-id-4 pre{padding: 0;}#sk-container-id-4 div.sk-toggleable {background-color: white;}#sk-container-id-4 label.sk-toggleable__label {cursor: pointer;display: block;width: 100%;margin-bottom: 0;padding: 0.3em;box-sizing: border-box;text-align: center;}#sk-container-id-4 label.sk-toggleable__label-arrow:before {content: \"▸\";float: left;margin-right: 0.25em;color: #696969;}#sk-container-id-4 label.sk-toggleable__label-arrow:hover:before {color: black;}#sk-container-id-4 div.sk-estimator:hover label.sk-toggleable__label-arrow:before {color: black;}#sk-container-id-4 div.sk-toggleable__content {max-height: 0;max-width: 0;overflow: hidden;text-align: left;background-color: #f0f8ff;}#sk-container-id-4 div.sk-toggleable__content pre {margin: 0.2em;color: black;border-radius: 0.25em;background-color: #f0f8ff;}#sk-container-id-4 input.sk-toggleable__control:checked~div.sk-toggleable__content {max-height: 200px;max-width: 100%;overflow: auto;}#sk-container-id-4 input.sk-toggleable__control:checked~label.sk-toggleable__label-arrow:before {content: \"▾\";}#sk-container-id-4 div.sk-estimator input.sk-toggleable__control:checked~label.sk-toggleable__label {background-color: #d4ebff;}#sk-container-id-4 div.sk-label input.sk-toggleable__control:checked~label.sk-toggleable__label {background-color: #d4ebff;}#sk-container-id-4 input.sk-hidden--visually {border: 0;clip: rect(1px 1px 1px 1px);clip: rect(1px, 1px, 1px, 1px);height: 1px;margin: -1px;overflow: hidden;padding: 0;position: absolute;width: 1px;}#sk-container-id-4 div.sk-estimator {font-family: monospace;background-color: #f0f8ff;border: 1px dotted black;border-radius: 0.25em;box-sizing: border-box;margin-bottom: 0.5em;}#sk-container-id-4 div.sk-estimator:hover {background-color: #d4ebff;}#sk-container-id-4 div.sk-parallel-item::after {content: \"\";width: 100%;border-bottom: 1px solid gray;flex-grow: 1;}#sk-container-id-4 div.sk-label:hover label.sk-toggleable__label {background-color: #d4ebff;}#sk-container-id-4 div.sk-serial::before {content: \"\";position: absolute;border-left: 1px solid gray;box-sizing: border-box;top: 0;bottom: 0;left: 50%;z-index: 0;}#sk-container-id-4 div.sk-serial {display: flex;flex-direction: column;align-items: center;background-color: white;padding-right: 0.2em;padding-left: 0.2em;position: relative;}#sk-container-id-4 div.sk-item {position: relative;z-index: 1;}#sk-container-id-4 div.sk-parallel {display: flex;align-items: stretch;justify-content: center;background-color: white;position: relative;}#sk-container-id-4 div.sk-item::before, #sk-container-id-4 div.sk-parallel-item::before {content: \"\";position: absolute;border-left: 1px solid gray;box-sizing: border-box;top: 0;bottom: 0;left: 50%;z-index: -1;}#sk-container-id-4 div.sk-parallel-item {display: flex;flex-direction: column;z-index: 1;position: relative;background-color: white;}#sk-container-id-4 div.sk-parallel-item:first-child::after {align-self: flex-end;width: 50%;}#sk-container-id-4 div.sk-parallel-item:last-child::after {align-self: flex-start;width: 50%;}#sk-container-id-4 div.sk-parallel-item:only-child::after {width: 0;}#sk-container-id-4 div.sk-dashed-wrapped {border: 1px dashed gray;margin: 0 0.4em 0.5em 0.4em;box-sizing: border-box;padding-bottom: 0.4em;background-color: white;}#sk-container-id-4 div.sk-label label {font-family: monospace;font-weight: bold;display: inline-block;line-height: 1.2em;}#sk-container-id-4 div.sk-label-container {text-align: center;}#sk-container-id-4 div.sk-container {/* jupyter's `normalize.less` sets `[hidden] { display: none; }` but bootstrap.min.css set `[hidden] { display: none !important; }` so we also need the `!important` here to be able to override the default hidden behavior on the sphinx rendered scikit-learn.org. See: https://github.com/scikit-learn/scikit-learn/issues/21755 */display: inline-block !important;position: relative;}#sk-container-id-4 div.sk-text-repr-fallback {display: none;}</style><div id=\"sk-container-id-4\" class=\"sk-top-container\"><div class=\"sk-text-repr-fallback\"><pre>Ridge(alpha=0.5)</pre><b>In a Jupyter environment, please rerun this cell to show the HTML representation or trust the notebook. <br />On GitHub, the HTML representation is unable to render, please try loading this page with nbviewer.org.</b></div><div class=\"sk-container\" hidden><div class=\"sk-item\"><div class=\"sk-estimator sk-toggleable\"><input class=\"sk-toggleable__control sk-hidden--visually\" id=\"sk-estimator-id-4\" type=\"checkbox\" checked><label for=\"sk-estimator-id-4\" class=\"sk-toggleable__label sk-toggleable__label-arrow\">Ridge</label><div class=\"sk-toggleable__content\"><pre>Ridge(alpha=0.5)</pre></div></div></div></div></div>"
      ],
      "text/plain": [
       "Ridge(alpha=0.5)"
      ]
     },
     "execution_count": 32,
     "metadata": {},
     "output_type": "execute_result"
    }
   ],
   "source": [
    "R=Ridge(alpha=0.5)\n",
    "R.fit(X_train,y_train)"
   ]
  },
  {
   "cell_type": "code",
   "execution_count": 33,
   "id": "a69f0d2b",
   "metadata": {},
   "outputs": [
    {
     "data": {
      "text/plain": [
       "0.6590618079160558"
      ]
     },
     "execution_count": 33,
     "metadata": {},
     "output_type": "execute_result"
    }
   ],
   "source": [
    "R.score(X_train,y_train)"
   ]
  },
  {
   "cell_type": "code",
   "execution_count": 34,
   "id": "e4fed88f",
   "metadata": {},
   "outputs": [
    {
     "data": {
      "text/plain": [
       "0.679451928472188"
      ]
     },
     "execution_count": 34,
     "metadata": {},
     "output_type": "execute_result"
    }
   ],
   "source": [
    "R.score(X_test,y_test)"
   ]
  },
  {
   "cell_type": "code",
   "execution_count": 45,
   "id": "35ce2edf",
   "metadata": {},
   "outputs": [
    {
     "data": {
      "text/html": [
       "<style>#sk-container-id-8 {color: black;}#sk-container-id-8 pre{padding: 0;}#sk-container-id-8 div.sk-toggleable {background-color: white;}#sk-container-id-8 label.sk-toggleable__label {cursor: pointer;display: block;width: 100%;margin-bottom: 0;padding: 0.3em;box-sizing: border-box;text-align: center;}#sk-container-id-8 label.sk-toggleable__label-arrow:before {content: \"▸\";float: left;margin-right: 0.25em;color: #696969;}#sk-container-id-8 label.sk-toggleable__label-arrow:hover:before {color: black;}#sk-container-id-8 div.sk-estimator:hover label.sk-toggleable__label-arrow:before {color: black;}#sk-container-id-8 div.sk-toggleable__content {max-height: 0;max-width: 0;overflow: hidden;text-align: left;background-color: #f0f8ff;}#sk-container-id-8 div.sk-toggleable__content pre {margin: 0.2em;color: black;border-radius: 0.25em;background-color: #f0f8ff;}#sk-container-id-8 input.sk-toggleable__control:checked~div.sk-toggleable__content {max-height: 200px;max-width: 100%;overflow: auto;}#sk-container-id-8 input.sk-toggleable__control:checked~label.sk-toggleable__label-arrow:before {content: \"▾\";}#sk-container-id-8 div.sk-estimator input.sk-toggleable__control:checked~label.sk-toggleable__label {background-color: #d4ebff;}#sk-container-id-8 div.sk-label input.sk-toggleable__control:checked~label.sk-toggleable__label {background-color: #d4ebff;}#sk-container-id-8 input.sk-hidden--visually {border: 0;clip: rect(1px 1px 1px 1px);clip: rect(1px, 1px, 1px, 1px);height: 1px;margin: -1px;overflow: hidden;padding: 0;position: absolute;width: 1px;}#sk-container-id-8 div.sk-estimator {font-family: monospace;background-color: #f0f8ff;border: 1px dotted black;border-radius: 0.25em;box-sizing: border-box;margin-bottom: 0.5em;}#sk-container-id-8 div.sk-estimator:hover {background-color: #d4ebff;}#sk-container-id-8 div.sk-parallel-item::after {content: \"\";width: 100%;border-bottom: 1px solid gray;flex-grow: 1;}#sk-container-id-8 div.sk-label:hover label.sk-toggleable__label {background-color: #d4ebff;}#sk-container-id-8 div.sk-serial::before {content: \"\";position: absolute;border-left: 1px solid gray;box-sizing: border-box;top: 0;bottom: 0;left: 50%;z-index: 0;}#sk-container-id-8 div.sk-serial {display: flex;flex-direction: column;align-items: center;background-color: white;padding-right: 0.2em;padding-left: 0.2em;position: relative;}#sk-container-id-8 div.sk-item {position: relative;z-index: 1;}#sk-container-id-8 div.sk-parallel {display: flex;align-items: stretch;justify-content: center;background-color: white;position: relative;}#sk-container-id-8 div.sk-item::before, #sk-container-id-8 div.sk-parallel-item::before {content: \"\";position: absolute;border-left: 1px solid gray;box-sizing: border-box;top: 0;bottom: 0;left: 50%;z-index: -1;}#sk-container-id-8 div.sk-parallel-item {display: flex;flex-direction: column;z-index: 1;position: relative;background-color: white;}#sk-container-id-8 div.sk-parallel-item:first-child::after {align-self: flex-end;width: 50%;}#sk-container-id-8 div.sk-parallel-item:last-child::after {align-self: flex-start;width: 50%;}#sk-container-id-8 div.sk-parallel-item:only-child::after {width: 0;}#sk-container-id-8 div.sk-dashed-wrapped {border: 1px dashed gray;margin: 0 0.4em 0.5em 0.4em;box-sizing: border-box;padding-bottom: 0.4em;background-color: white;}#sk-container-id-8 div.sk-label label {font-family: monospace;font-weight: bold;display: inline-block;line-height: 1.2em;}#sk-container-id-8 div.sk-label-container {text-align: center;}#sk-container-id-8 div.sk-container {/* jupyter's `normalize.less` sets `[hidden] { display: none; }` but bootstrap.min.css set `[hidden] { display: none !important; }` so we also need the `!important` here to be able to override the default hidden behavior on the sphinx rendered scikit-learn.org. See: https://github.com/scikit-learn/scikit-learn/issues/21755 */display: inline-block !important;position: relative;}#sk-container-id-8 div.sk-text-repr-fallback {display: none;}</style><div id=\"sk-container-id-8\" class=\"sk-top-container\"><div class=\"sk-text-repr-fallback\"><pre>Lasso(alpha=0.1)</pre><b>In a Jupyter environment, please rerun this cell to show the HTML representation or trust the notebook. <br />On GitHub, the HTML representation is unable to render, please try loading this page with nbviewer.org.</b></div><div class=\"sk-container\" hidden><div class=\"sk-item\"><div class=\"sk-estimator sk-toggleable\"><input class=\"sk-toggleable__control sk-hidden--visually\" id=\"sk-estimator-id-8\" type=\"checkbox\" checked><label for=\"sk-estimator-id-8\" class=\"sk-toggleable__label sk-toggleable__label-arrow\">Lasso</label><div class=\"sk-toggleable__content\"><pre>Lasso(alpha=0.1)</pre></div></div></div></div></div>"
      ],
      "text/plain": [
       "Lasso(alpha=0.1)"
      ]
     },
     "execution_count": 45,
     "metadata": {},
     "output_type": "execute_result"
    }
   ],
   "source": [
    "#Lasso regression\n",
    "from sklearn import linear_model\n",
    "LS = linear_model.Lasso(alpha=0.10)\n",
    "LS.fit(X_train, y_train)"
   ]
  },
  {
   "cell_type": "code",
   "execution_count": 46,
   "id": "b68bf607",
   "metadata": {},
   "outputs": [
    {
     "data": {
      "text/plain": [
       "0.6590613420225788"
      ]
     },
     "execution_count": 46,
     "metadata": {},
     "output_type": "execute_result"
    }
   ],
   "source": [
    "LS.score(X_train, y_train)"
   ]
  },
  {
   "cell_type": "code",
   "execution_count": 47,
   "id": "e45306b2",
   "metadata": {},
   "outputs": [
    {
     "data": {
      "text/plain": [
       "0.6794167655624463"
      ]
     },
     "execution_count": 47,
     "metadata": {},
     "output_type": "execute_result"
    }
   ],
   "source": [
    "LS.score(X_test, y_test)"
   ]
  },
  {
   "cell_type": "code",
   "execution_count": null,
   "id": "a3d6a60a",
   "metadata": {},
   "outputs": [],
   "source": []
  }
 ],
 "metadata": {
  "kernelspec": {
   "display_name": "Python 3 (ipykernel)",
   "language": "python",
   "name": "python3"
  },
  "language_info": {
   "codemirror_mode": {
    "name": "ipython",
    "version": 3
   },
   "file_extension": ".py",
   "mimetype": "text/x-python",
   "name": "python",
   "nbconvert_exporter": "python",
   "pygments_lexer": "ipython3",
   "version": "3.11.4"
  }
 },
 "nbformat": 4,
 "nbformat_minor": 5
}
